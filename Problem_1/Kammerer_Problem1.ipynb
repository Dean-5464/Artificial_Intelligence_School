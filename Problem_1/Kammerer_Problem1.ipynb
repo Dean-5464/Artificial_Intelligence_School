{
  "nbformat": 4,
  "nbformat_minor": 0,
  "metadata": {
    "colab": {
      "name": "Kammerer_Problem1.ipynb",
      "provenance": []
    },
    "kernelspec": {
      "name": "python3",
      "display_name": "Python 3"
    }
  },
  "cells": [
    {
      "cell_type": "code",
      "metadata": {
        "colab": {
          "base_uri": "https://localhost:8080/"
        },
        "id": "J8DalM4N8yNJ",
        "outputId": "18bd741b-527e-48aa-c5d9-07130c9b1dee"
      },
      "source": [
        "# AI for Logistics - Robots in a warehouse\r\n",
        "\r\n",
        "# Importing the libraries\r\n",
        "import numpy as np\r\n",
        "\r\n",
        "\r\n",
        "# Setting the parameters gamma and alpha for the Q-Learning\r\n",
        "gamma = 0.75\r\n",
        "alpha = 0.9\r\n",
        "\r\n",
        "# PART 1 - BUILDING THE ENVIRONMENT\r\n",
        "\r\n",
        "# Defining the states\r\n",
        "location_to_state = {'4': 0,\r\n",
        "                     '8': 1,\r\n",
        "                     '3': 2,\r\n",
        "                     '5': 3,\r\n",
        "                     '7': 4,\r\n",
        "                     '2': 5,\r\n",
        "                     '1': 6,\r\n",
        "                     '6': 7,\r\n",
        "                     '9': 8 }\r\n",
        "\r\n",
        "\r\n",
        "# Defining the actions\r\n",
        "actions = [0,1,2,3,4,5,6,7,8]\r\n",
        "\r\n",
        "# Defining the rewards\r\n",
        "R = np.array([[0, 1, 0, 1, 0, 0, 0, 0, 0],\r\n",
        "              [1, 0, 0, 0, 0, 0, 0, 0, 0],\r\n",
        "              [0, 0, 0, 0, 1, 0 ,0 ,0 ,0],\r\n",
        "              [1, 0, 0, 0, 0, 0, 1, 0, 0],\r\n",
        "              [0, 0, 1, 0, 0, 1, 0, 1, 0],\r\n",
        "              [0, 0, 0, 0, 1, 0, 0, 0, 0],\r\n",
        "              [0, 0, 0, 1, 0, 0, 0, 1, 1],\r\n",
        "              [0, 0, 0, 0, 1, 0, 1, 0, 1],\r\n",
        "              [0, 0, 0, 0, 0, 0, 1, 1, 0]])\r\n",
        "\r\n",
        "# PART 2 - BUILDING THE AI SOLUTION WITH Q-LEARNING\r\n",
        "\r\n",
        "# Making a mapping from the states to the locations\r\n",
        "state_to_location = {state: location for location, state in location_to_state.items()}\r\n",
        "\r\n",
        "# Making a function that returns the shortest route from a starting to ending location\r\n",
        "def route(starting_location, ending_location):\r\n",
        "    R_new = np.copy(R)\r\n",
        "    ending_state = location_to_state[ending_location]\r\n",
        "    R_new[ending_state, ending_state] = 1000\r\n",
        "    Q = np.array(np.zeros([9,9]))\r\n",
        "    for i in range(1000):\r\n",
        "        current_state = np.random.randint(0,9)\r\n",
        "        playable_actions = []\r\n",
        "        for j in range(9):\r\n",
        "            if R_new[current_state, j] > 0:\r\n",
        "                playable_actions.append(j)\r\n",
        "        next_state = np.random.choice(playable_actions)\r\n",
        "        TD = R_new[current_state, next_state] + gamma * Q[next_state, np.argmax(Q[next_state,])] - Q[current_state, next_state]\r\n",
        "        Q[current_state, next_state] = Q[current_state, next_state] + alpha * TD\r\n",
        "    route = [starting_location]\r\n",
        "    next_location = starting_location\r\n",
        "    while (next_location != ending_location):\r\n",
        "        starting_state = location_to_state[starting_location]\r\n",
        "        next_state = np.argmax(Q[starting_state,])\r\n",
        "        next_location = state_to_location[next_state]\r\n",
        "        route.append(next_location)\r\n",
        "        starting_location = next_location\r\n",
        "    return route\r\n",
        "\r\n",
        "# PART 3 - GOING INTO PRODUCTION\r\n",
        "\r\n",
        "# Printing the final route\r\n",
        "print('Route:')\r\n",
        "route('8', '5')\r\n"
      ],
      "execution_count": 30,
      "outputs": [
        {
          "output_type": "stream",
          "text": [
            "Route:\n"
          ],
          "name": "stdout"
        },
        {
          "output_type": "execute_result",
          "data": {
            "text/plain": [
              "['8', '4', '5']"
            ]
          },
          "metadata": {
            "tags": []
          },
          "execution_count": 30
        }
      ]
    }
  ]
}